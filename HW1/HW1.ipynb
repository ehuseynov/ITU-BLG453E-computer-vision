{
 "cells": [
  {
   "cell_type": "code",
   "execution_count": null,
   "metadata": {
    "id": "6pIWVJRIaqYo"
   },
   "outputs": [],
   "source": [
    "#Intro: importing all the necessary libraries.\n",
    "import SimpleITK as sitk\n",
    "import numpy as np\n",
    "import cv2\n",
    "import matplotlib.pyplot as plt\n",
    "import tifffile as tiff"
   ]
  },
  {
   "cell_type": "markdown",
   "metadata": {
    "id": "tCb_pZssbVGC"
   },
   "source": [
    "Q1"
   ]
  },
  {
   "cell_type": "code",
   "execution_count": null,
   "metadata": {
    "id": "L_OA2Gmvb6sL"
   },
   "outputs": [],
   "source": [
    "#Q1\n",
    "image = sitk.ReadImage('Data/CT.tif')\n",
    "image_array = sitk.GetArrayFromImage(image)\n",
    "\n",
    "# Normalizing the image\n",
    "image_normalized = image_array / np.max(image_array)\n",
    "\n",
    "A = 1 #scaling constant, set to 1 for simplicity\n",
    "gamma = 0.28  #Gamma\n",
    "gamma_corrected = A*np.power(image_normalized, gamma)\n",
    "\n",
    "# Scale to 8-bit and convert to uint8 for display\n",
    "gamma_corrected = (gamma_corrected * 255).astype(np.uint8)\n",
    "\n",
    "plt.figure(figsize=(12, 6))\n",
    "\n",
    "# Display original\n",
    "plt.subplot(1, 2, 1)\n",
    "plt.title(\"Original Image\")\n",
    "plt.imshow(image_array, cmap='gray')\n",
    "\n",
    "# Display gamma corrected image\n",
    "plt.subplot(1, 2, 2)\n",
    "plt.title(\"Gamma Corrected Image\")\n",
    "plt.imshow(gamma_corrected, cmap='gray')\n",
    "\n",
    "plt.show()"
   ]
  }
 ],
 "metadata": {
  "colab": {
   "provenance": []
  },
  "kernelspec": {
   "display_name": "Python 3",
   "name": "python3"
  },
  "language_info": {
   "name": "python"
  }
 },
 "nbformat": 4,
 "nbformat_minor": 0
}
